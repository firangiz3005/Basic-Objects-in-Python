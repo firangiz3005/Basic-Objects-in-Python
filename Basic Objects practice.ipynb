{
 "cells": [
  {
   "cell_type": "code",
   "execution_count": 89,
   "id": "12fc360a-5348-47fe-b016-c6b8b62c95e4",
   "metadata": {},
   "outputs": [],
   "source": [
    "list = actors = [\"Michael\", \"Chris\", \"Goodwin\", \"Howard\", \"Michael\", \"Frank\", \"Spotnitz\", \"Michael\", \"Anna\", \"Jennifer\", \"Vince\", \"Michael\", \"Gilligan\", \"John\",\n",
    "\"Shiban\", \"Kim\", \"Michael\", \"Glen\", \"James\", \"Michelle\", \"Michael\", \"Michael\", \"David\"]"
   ]
  },
  {
   "cell_type": "code",
   "execution_count": 91,
   "id": "a37996cc-1265-416e-8741-2326b6cdb324",
   "metadata": {},
   "outputs": [],
   "source": [
    "#What percentage does Michael appear in the first few scenes ?\n",
    "#How many times Michael appears \n",
    "#How many total items in the list?\n",
    "#Divide values"
   ]
  },
  {
   "cell_type": "code",
   "execution_count": 92,
   "id": "007aa1ed-cec4-4dbd-a0c1-9c8f0e88e6ee",
   "metadata": {},
   "outputs": [],
   "source": [
    "count_michael = actors.count(\"Michael\")"
   ]
  },
  {
   "cell_type": "code",
   "execution_count": 93,
   "id": "440f3bb4-de5b-4275-8291-f9034dcbec6b",
   "metadata": {},
   "outputs": [],
   "source": [
    "total_actors = len(actors)"
   ]
  },
  {
   "cell_type": "code",
   "execution_count": 94,
   "id": "635484e5-1579-427b-bd46-75e773143907",
   "metadata": {},
   "outputs": [],
   "source": [
    "result = (count_michael/total_actors)*100"
   ]
  },
  {
   "cell_type": "code",
   "execution_count": 95,
   "id": "2e258f34-813a-4cde-a54a-8e13ddf168c8",
   "metadata": {},
   "outputs": [
    {
     "name": "stdout",
     "output_type": "stream",
     "text": [
      "30.434782608695656\n"
     ]
    }
   ],
   "source": [
    "print(result)"
   ]
  },
  {
   "cell_type": "code",
   "execution_count": 81,
   "id": "017b0619-3c3b-495f-92c0-79394b65914f",
   "metadata": {},
   "outputs": [],
   "source": [
    "dict = ages_cast={\"Dwight\":39, \"Jim\":25,\"Pam\":31,\"Michael\":43,\"Kelly\":24, \"Creed\":62,\"Amngela\":34, \"Meredith\":40, \"Ryan\":25, \"Jan\":37}"
   ]
  },
  {
   "cell_type": "code",
   "execution_count": 82,
   "id": "c38ea038-649d-4f80-9499-e80e12af41c6",
   "metadata": {},
   "outputs": [
    {
     "name": "stdout",
     "output_type": "stream",
     "text": [
      "Object `cast` not found.\n"
     ]
    }
   ],
   "source": [
    "What is average age of the cast?"
   ]
  },
  {
   "cell_type": "code",
   "execution_count": 83,
   "id": "1b30b2bf-76dc-408e-a0ed-311324cbeafe",
   "metadata": {},
   "outputs": [],
   "source": [
    "#1. Get the ages only\n",
    "#2. Sum up all the ages\n",
    "#3. Divide sum by the count of the ages"
   ]
  },
  {
   "cell_type": "code",
   "execution_count": 84,
   "id": "3eb935ab-21c3-454a-8852-35e6730ed22d",
   "metadata": {},
   "outputs": [],
   "source": [
    "ages = ages_cast.values()"
   ]
  },
  {
   "cell_type": "code",
   "execution_count": 85,
   "id": "98c60d04-89b7-403d-a853-4c24cbbb7d43",
   "metadata": {},
   "outputs": [],
   "source": [
    "total_sum = sum(ages)"
   ]
  },
  {
   "cell_type": "code",
   "execution_count": 86,
   "id": "8dd35467-effc-4fdb-869d-15a1cbaea543",
   "metadata": {},
   "outputs": [],
   "source": [
    "total_count = len(ages)"
   ]
  },
  {
   "cell_type": "code",
   "execution_count": 87,
   "id": "0f15ddd5-8f94-413d-a206-499f9803618f",
   "metadata": {},
   "outputs": [],
   "source": [
    "avg_age = (total_sum/total_count)"
   ]
  },
  {
   "cell_type": "code",
   "execution_count": 88,
   "id": "788d1f9c-8ed0-4bb0-89d2-997dede219a9",
   "metadata": {},
   "outputs": [
    {
     "name": "stdout",
     "output_type": "stream",
     "text": [
      "36.0\n"
     ]
    }
   ],
   "source": [
    "print(avg_age)"
   ]
  },
  {
   "cell_type": "code",
   "execution_count": null,
   "id": "00733054-addc-402a-af27-f64a41145418",
   "metadata": {},
   "outputs": [],
   "source": []
  },
  {
   "cell_type": "code",
   "execution_count": null,
   "id": "31828957-aeaf-4346-9e95-4e7c32703c12",
   "metadata": {},
   "outputs": [],
   "source": []
  }
 ],
 "metadata": {
  "kernelspec": {
   "display_name": "Python 3 (ipykernel)",
   "language": "python",
   "name": "python3"
  },
  "language_info": {
   "codemirror_mode": {
    "name": "ipython",
    "version": 3
   },
   "file_extension": ".py",
   "mimetype": "text/x-python",
   "name": "python",
   "nbconvert_exporter": "python",
   "pygments_lexer": "ipython3",
   "version": "3.11.7"
  }
 },
 "nbformat": 4,
 "nbformat_minor": 5
}
